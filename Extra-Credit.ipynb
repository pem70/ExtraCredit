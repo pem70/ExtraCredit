{
 "cells": [
  {
   "cell_type": "markdown",
   "metadata": {},
   "source": [
    "# Extra Credit\n",
    "\n",
    "These are some trickier problems, thus we are making them worth extra credit. If you successfully complete these problems, you will get a point for this assignment, making it worth the same as any other lab. Each of the below problems is worth .5 points. Show your work! partial credit is possible!!"
   ]
  },
  {
   "cell_type": "markdown",
   "metadata": {},
   "source": [
    "#### EC 1:\n",
    "\n",
    "###### sections to reference: [5.3](https://www.py4e.com/html3/05-iterations#infinite-loops)\n",
    "\n",
    "Remember that program you wrote to compute grades from last week? Well, buckle up, 'cuz we're not done with it yet. Just to refresh your memory, the grading program asked the user for a grade between 0 and 100, and calculated the letter grade based on this scale: \n",
    "\n",
    "Score  | Grade\n",
    "-------|-------\n",
    "93-100 | A\n",
    "85-92  | B\n",
    "74-84  | C\n",
    "63-73  | D\n",
    "≤62    | F\n",
    "\n",
    "Now would be a good time to look back at last week's notebook and see how you implemented that program. My version of it is below; but **you don't have to use my program**. In fact, it'll be better for you if you use code that *you wrote*, because you'll understand it more."
   ]
  },
  {
   "cell_type": "raw",
   "metadata": {},
   "source": [
    "scoreStr = \"Enter a grade between 0 and 100. \"\n",
    "inputErrorStr = \"Invalid input.\"\n",
    "rangeErrorStr = \"Grades must be between 0 and 100.\"\n",
    "\n",
    "score = input(scoreStr) # prompt user for the grade\n",
    "\n",
    "try:\n",
    "    score = int(score) # convert the grade to an integer for comparison\n",
    "    if score > 100 or score < 0: # score out of bounds\n",
    "        print(rangeErrorStr)\n",
    "    elif score >= 93: \n",
    "        print(\"Grade: A\")\n",
    "    elif score >= 85:\n",
    "        print(\"Grade: B\")\n",
    "    elif score >= 74:\n",
    "        print(\"Grade: C\")\n",
    "    elif score >= 63:\n",
    "        print(\"Grade: D\")\n",
    "    else: \n",
    "        print(\"Grade: F\")\n",
    "except:\n",
    "    print(inputErrorStr)"
   ]
  },
  {
   "cell_type": "markdown",
   "metadata": {},
   "source": [
    "You're going to improve this program, using what you learned in chapters 4 and 5. You're going to make three major changes:\n",
    "\n",
    "1. Rewrite the program **using a function** called `computegrade()`. Define that function so that it takes the score (between 0 and 100) as an **argument** and returns the grade as a string.   \n",
    "    You can do the return one of two ways: either the function `computegrade()` can print out the letter grade, or by using a return statement: for example, `return \"A\"`. If you use a return statement, you're going to have to print it out in the main block of your program. That'll look something like this: `print(\"Grade:\", computegrade(score))`  \n",
    "    Using return statements is theoretically the \"better\" way to do this problem, but it is quite a bit more difficult, so consider that a challenge if you want to do it that way. \n",
    "\n",
    "2. Using `try` and `except`, **allow the user** to enter either an int *or* a float for the score. If you've already done that in last week's assignment, congratulations, you're awesome! Pat yourself on the back.  \n",
    "![pat yourself on the back](https://media.giphy.com/media/3oFzmbl7X4uIyj2wrm/giphy.gif)\n",
    "\n",
    "3. Here's the real hard part: you're going to let the user enter as many grades as they want. You're going to want to put the code that asks the user for a grade in an *infinite while loop* so it executes as many times as the user wants.   \n",
    "    If the user enters a number less than 0 or greater than 100, use a `break` statement to quit the loop and exit the program. This means that you're going to want to test whether or not the score entered is between 0 and 100 *before* you call `computegrade(score)`.\n",
    "    "
   ]
  },
  {
   "cell_type": "raw",
   "metadata": {},
   "source": []
  },
  {
   "cell_type": "markdown",
   "metadata": {},
   "source": [
    "#### EC2:\n",
    "\n",
    "1. Using a function, write a program that prompts the user for names, then adds them to a list. Allow the user to input as many names as they want. Tell the user what to input when they are done inputting names. **HINT:** Part 3 of the previous problem will help here...\n",
    "2. Write another function that assess each of the names and tells whether or not they are good variable names. Pass the list through this function and use a dictionary to store the results\n",
    "3. Print the results. (Tell the user whether or not inputted names are good variable names)\n",
    "4. Tell the user how many names were good variable names and how many were bad variable names.\n",
    "5. Give the user a list containing only the good variable names"
   ]
  },
  {
   "cell_type": "raw",
   "metadata": {},
   "source": []
  },
  {
   "cell_type": "markdown",
   "metadata": {},
   "source": [
    "These are tough problems, so take it step by step. Work on the first improvement, and only move to the second once you're completely finished with the first. **Test your program** thoroughly after each step, to make sure you haven't inadvertently changed something you didn't want to.\n",
    "\n",
    "Good job and good luck!\n",
    "\n",
    "![GG](https://media.giphy.com/media/lvOnlEYunAwOkHjgmU/giphy.gif)"
   ]
  }
 ],
 "metadata": {
  "kernelspec": {
   "display_name": "Python 3.8.6 32-bit",
   "language": "python",
   "name": "python3"
  },
  "language_info": {
   "name": "python",
   "version": "3.8.6"
  },
  "orig_nbformat": 4,
  "vscode": {
   "interpreter": {
    "hash": "75e4a6a75c2bafdb358241a31c28830e81db8b6e5287e59fc181d3e0eb9324ab"
   }
  }
 },
 "nbformat": 4,
 "nbformat_minor": 2
}
